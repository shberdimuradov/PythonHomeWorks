{
 "cells": [
  {
   "cell_type": "code",
   "execution_count": 38,
   "id": "d01b9958",
   "metadata": {},
   "outputs": [
    {
     "name": "stdout",
     "output_type": "stream",
     "text": [
      "Help on class int in module builtins:\n",
      "\n",
      "class int(object)\n",
      " |  int([x]) -> integer\n",
      " |  int(x, base=10) -> integer\n",
      " |\n",
      " |  Convert a number or string to an integer, or return 0 if no arguments\n",
      " |  are given.  If x is a number, return x.__int__().  For floating-point\n",
      " |  numbers, this truncates towards zero.\n",
      " |\n",
      " |  If x is not a number or if base is given, then x must be a string,\n",
      " |  bytes, or bytearray instance representing an integer literal in the\n",
      " |  given base.  The literal can be preceded by '+' or '-' and be surrounded\n",
      " |  by whitespace.  The base defaults to 10.  Valid bases are 0 and 2-36.\n",
      " |  Base 0 means to interpret the base from the string as an integer literal.\n",
      " |  >>> int('0b100', base=0)\n",
      " |  4\n",
      " |\n",
      " |  Built-in subclasses:\n",
      " |      bool\n",
      " |\n",
      " |  Methods defined here:\n",
      " |\n",
      " |  __abs__(self, /)\n",
      " |      abs(self)\n",
      " |\n",
      " |  __add__(self, value, /)\n",
      " |      Return self+value.\n",
      " |\n",
      " |  __and__(self, value, /)\n",
      " |      Return self&value.\n",
      " |\n",
      " |  __bool__(self, /)\n",
      " |      True if self else False\n",
      " |\n",
      " |  __ceil__(...)\n",
      " |      Ceiling of an Integral returns itself.\n",
      " |\n",
      " |  __divmod__(self, value, /)\n",
      " |      Return divmod(self, value).\n",
      " |\n",
      " |  __eq__(self, value, /)\n",
      " |      Return self==value.\n",
      " |\n",
      " |  __float__(self, /)\n",
      " |      float(self)\n",
      " |\n",
      " |  __floor__(...)\n",
      " |      Flooring an Integral returns itself.\n",
      " |\n",
      " |  __floordiv__(self, value, /)\n",
      " |      Return self//value.\n",
      " |\n",
      " |  __format__(self, format_spec, /)\n",
      " |      Convert to a string according to format_spec.\n",
      " |\n",
      " |  __ge__(self, value, /)\n",
      " |      Return self>=value.\n",
      " |\n",
      " |  __getattribute__(self, name, /)\n",
      " |      Return getattr(self, name).\n",
      " |\n",
      " |  __getnewargs__(self, /)\n",
      " |\n",
      " |  __gt__(self, value, /)\n",
      " |      Return self>value.\n",
      " |\n",
      " |  __hash__(self, /)\n",
      " |      Return hash(self).\n",
      " |\n",
      " |  __index__(self, /)\n",
      " |      Return self converted to an integer, if self is suitable for use as an index into a list.\n",
      " |\n",
      " |  __int__(self, /)\n",
      " |      int(self)\n",
      " |\n",
      " |  __invert__(self, /)\n",
      " |      ~self\n",
      " |\n",
      " |  __le__(self, value, /)\n",
      " |      Return self<=value.\n",
      " |\n",
      " |  __lshift__(self, value, /)\n",
      " |      Return self<<value.\n",
      " |\n",
      " |  __lt__(self, value, /)\n",
      " |      Return self<value.\n",
      " |\n",
      " |  __mod__(self, value, /)\n",
      " |      Return self%value.\n",
      " |\n",
      " |  __mul__(self, value, /)\n",
      " |      Return self*value.\n",
      " |\n",
      " |  __ne__(self, value, /)\n",
      " |      Return self!=value.\n",
      " |\n",
      " |  __neg__(self, /)\n",
      " |      -self\n",
      " |\n",
      " |  __or__(self, value, /)\n",
      " |      Return self|value.\n",
      " |\n",
      " |  __pos__(self, /)\n",
      " |      +self\n",
      " |\n",
      " |  __pow__(self, value, mod=None, /)\n",
      " |      Return pow(self, value, mod).\n",
      " |\n",
      " |  __radd__(self, value, /)\n",
      " |      Return value+self.\n",
      " |\n",
      " |  __rand__(self, value, /)\n",
      " |      Return value&self.\n",
      " |\n",
      " |  __rdivmod__(self, value, /)\n",
      " |      Return divmod(value, self).\n",
      " |\n",
      " |  __repr__(self, /)\n",
      " |      Return repr(self).\n",
      " |\n",
      " |  __rfloordiv__(self, value, /)\n",
      " |      Return value//self.\n",
      " |\n",
      " |  __rlshift__(self, value, /)\n",
      " |      Return value<<self.\n",
      " |\n",
      " |  __rmod__(self, value, /)\n",
      " |      Return value%self.\n",
      " |\n",
      " |  __rmul__(self, value, /)\n",
      " |      Return value*self.\n",
      " |\n",
      " |  __ror__(self, value, /)\n",
      " |      Return value|self.\n",
      " |\n",
      " |  __round__(...)\n",
      " |      Rounding an Integral returns itself.\n",
      " |\n",
      " |      Rounding with an ndigits argument also returns an integer.\n",
      " |\n",
      " |  __rpow__(self, value, mod=None, /)\n",
      " |      Return pow(value, self, mod).\n",
      " |\n",
      " |  __rrshift__(self, value, /)\n",
      " |      Return value>>self.\n",
      " |\n",
      " |  __rshift__(self, value, /)\n",
      " |      Return self>>value.\n",
      " |\n",
      " |  __rsub__(self, value, /)\n",
      " |      Return value-self.\n",
      " |\n",
      " |  __rtruediv__(self, value, /)\n",
      " |      Return value/self.\n",
      " |\n",
      " |  __rxor__(self, value, /)\n",
      " |      Return value^self.\n",
      " |\n",
      " |  __sizeof__(self, /)\n",
      " |      Returns size in memory, in bytes.\n",
      " |\n",
      " |  __sub__(self, value, /)\n",
      " |      Return self-value.\n",
      " |\n",
      " |  __truediv__(self, value, /)\n",
      " |      Return self/value.\n",
      " |\n",
      " |  __trunc__(...)\n",
      " |      Truncating an Integral returns itself.\n",
      " |\n",
      " |  __xor__(self, value, /)\n",
      " |      Return self^value.\n",
      " |\n",
      " |  as_integer_ratio(self, /)\n",
      " |      Return a pair of integers, whose ratio is equal to the original int.\n",
      " |\n",
      " |      The ratio is in lowest terms and has a positive denominator.\n",
      " |\n",
      " |      >>> (10).as_integer_ratio()\n",
      " |      (10, 1)\n",
      " |      >>> (-10).as_integer_ratio()\n",
      " |      (-10, 1)\n",
      " |      >>> (0).as_integer_ratio()\n",
      " |      (0, 1)\n",
      " |\n",
      " |  bit_count(self, /)\n",
      " |      Number of ones in the binary representation of the absolute value of self.\n",
      " |\n",
      " |      Also known as the population count.\n",
      " |\n",
      " |      >>> bin(13)\n",
      " |      '0b1101'\n",
      " |      >>> (13).bit_count()\n",
      " |      3\n",
      " |\n",
      " |  bit_length(self, /)\n",
      " |      Number of bits necessary to represent self in binary.\n",
      " |\n",
      " |      >>> bin(37)\n",
      " |      '0b100101'\n",
      " |      >>> (37).bit_length()\n",
      " |      6\n",
      " |\n",
      " |  conjugate(...)\n",
      " |      Returns self, the complex conjugate of any int.\n",
      " |\n",
      " |  is_integer(self, /)\n",
      " |      Returns True. Exists for duck type compatibility with float.is_integer.\n",
      " |\n",
      " |  to_bytes(self, /, length=1, byteorder='big', *, signed=False)\n",
      " |      Return an array of bytes representing an integer.\n",
      " |\n",
      " |      length\n",
      " |        Length of bytes object to use.  An OverflowError is raised if the\n",
      " |        integer is not representable with the given number of bytes.  Default\n",
      " |        is length 1.\n",
      " |      byteorder\n",
      " |        The byte order used to represent the integer.  If byteorder is 'big',\n",
      " |        the most significant byte is at the beginning of the byte array.  If\n",
      " |        byteorder is 'little', the most significant byte is at the end of the\n",
      " |        byte array.  To request the native byte order of the host system, use\n",
      " |        `sys.byteorder' as the byte order value.  Default is to use 'big'.\n",
      " |      signed\n",
      " |        Determines whether two's complement is used to represent the integer.\n",
      " |        If signed is False and a negative integer is given, an OverflowError\n",
      " |        is raised.\n",
      " |\n",
      " |  ----------------------------------------------------------------------\n",
      " |  Class methods defined here:\n",
      " |\n",
      " |  from_bytes(bytes, byteorder='big', *, signed=False)\n",
      " |      Return the integer represented by the given array of bytes.\n",
      " |\n",
      " |      bytes\n",
      " |        Holds the array of bytes to convert.  The argument must either\n",
      " |        support the buffer protocol or be an iterable object producing bytes.\n",
      " |        Bytes and bytearray are examples of built-in objects that support the\n",
      " |        buffer protocol.\n",
      " |      byteorder\n",
      " |        The byte order used to represent the integer.  If byteorder is 'big',\n",
      " |        the most significant byte is at the beginning of the byte array.  If\n",
      " |        byteorder is 'little', the most significant byte is at the end of the\n",
      " |        byte array.  To request the native byte order of the host system, use\n",
      " |        `sys.byteorder' as the byte order value.  Default is to use 'big'.\n",
      " |      signed\n",
      " |        Indicates whether two's complement is used to represent the integer.\n",
      " |\n",
      " |  ----------------------------------------------------------------------\n",
      " |  Static methods defined here:\n",
      " |\n",
      " |  __new__(*args, **kwargs)\n",
      " |      Create and return a new object.  See help(type) for accurate signature.\n",
      " |\n",
      " |  ----------------------------------------------------------------------\n",
      " |  Data descriptors defined here:\n",
      " |\n",
      " |  denominator\n",
      " |      the denominator of a rational number in lowest terms\n",
      " |\n",
      " |  imag\n",
      " |      the imaginary part of a complex number\n",
      " |\n",
      " |  numerator\n",
      " |      the numerator of a rational number in lowest terms\n",
      " |\n",
      " |  real\n",
      " |      the real part of a complex number\n",
      "\n"
     ]
    }
   ],
   "source": [
    "help(int)"
   ]
  },
  {
   "cell_type": "code",
   "execution_count": 39,
   "id": "c8f40f22",
   "metadata": {},
   "outputs": [],
   "source": [
    "class Person():\n",
    "    pass\n"
   ]
  },
  {
   "cell_type": "code",
   "execution_count": 40,
   "id": "d72bed9c",
   "metadata": {},
   "outputs": [
    {
     "data": {
      "text/plain": [
       "type"
      ]
     },
     "execution_count": 40,
     "metadata": {},
     "output_type": "execute_result"
    }
   ],
   "source": [
    "type(Person)"
   ]
  },
  {
   "cell_type": "code",
   "execution_count": 41,
   "id": "4dee7b98",
   "metadata": {},
   "outputs": [
    {
     "data": {
      "text/plain": [
       "type"
      ]
     },
     "execution_count": 41,
     "metadata": {},
     "output_type": "execute_result"
    }
   ],
   "source": [
    "type(type)"
   ]
  },
  {
   "cell_type": "code",
   "execution_count": 6,
   "id": "d93891e3",
   "metadata": {},
   "outputs": [
    {
     "data": {
      "text/plain": [
       "'Person'"
      ]
     },
     "execution_count": 6,
     "metadata": {},
     "output_type": "execute_result"
    }
   ],
   "source": [
    "Person.__name__"
   ]
  },
  {
   "cell_type": "code",
   "execution_count": 42,
   "id": "bac5d0b7",
   "metadata": {},
   "outputs": [],
   "source": [
    "p = Person()"
   ]
  },
  {
   "cell_type": "code",
   "execution_count": 43,
   "id": "28fb5a40",
   "metadata": {},
   "outputs": [
    {
     "data": {
      "text/plain": [
       "__main__.Person"
      ]
     },
     "execution_count": 43,
     "metadata": {},
     "output_type": "execute_result"
    }
   ],
   "source": [
    "type(p)"
   ]
  },
  {
   "cell_type": "code",
   "execution_count": 9,
   "id": "00eec320",
   "metadata": {},
   "outputs": [
    {
     "data": {
      "text/plain": [
       "__main__.Person"
      ]
     },
     "execution_count": 9,
     "metadata": {},
     "output_type": "execute_result"
    }
   ],
   "source": [
    "p.__class__"
   ]
  },
  {
   "cell_type": "code",
   "execution_count": 10,
   "id": "b0c0e398",
   "metadata": {},
   "outputs": [
    {
     "name": "stdout",
     "output_type": "stream",
     "text": [
      "<class 'int'>\n"
     ]
    }
   ],
   "source": [
    "x = 5\n",
    "print(x.__class__)\n"
   ]
  },
  {
   "cell_type": "code",
   "execution_count": 11,
   "id": "04877895",
   "metadata": {},
   "outputs": [
    {
     "data": {
      "text/plain": [
       "True"
      ]
     },
     "execution_count": 11,
     "metadata": {},
     "output_type": "execute_result"
    }
   ],
   "source": [
    "type(p) is (p).__class__"
   ]
  },
  {
   "cell_type": "code",
   "execution_count": 12,
   "id": "65b127ba",
   "metadata": {},
   "outputs": [
    {
     "name": "stdout",
     "output_type": "stream",
     "text": [
      "True\n"
     ]
    }
   ],
   "source": [
    "print(isinstance(5, int))"
   ]
  },
  {
   "cell_type": "code",
   "execution_count": 13,
   "id": "e40afa78",
   "metadata": {},
   "outputs": [
    {
     "name": "stdout",
     "output_type": "stream",
     "text": [
      "True\n"
     ]
    }
   ],
   "source": [
    "# c bu Person klassining obektimi\n",
    "c = Person()\n",
    "print(isinstance(c, Person))"
   ]
  },
  {
   "cell_type": "code",
   "execution_count": 14,
   "id": "a62f86e1",
   "metadata": {},
   "outputs": [
    {
     "data": {
      "text/plain": [
       "True"
      ]
     },
     "execution_count": 14,
     "metadata": {},
     "output_type": "execute_result"
    }
   ],
   "source": [
    "# Personning o`zi type turdami deb so`ralmoqda\n",
    "isinstance(Person, type)"
   ]
  },
  {
   "cell_type": "code",
   "execution_count": 15,
   "id": "b85635d8",
   "metadata": {},
   "outputs": [
    {
     "name": "stdout",
     "output_type": "stream",
     "text": [
      "Help on class type in module builtins:\n",
      "\n",
      "class type(object)\n",
      " |  type(object) -> the object's type\n",
      " |  type(name, bases, dict, **kwds) -> a new type\n",
      " |\n",
      " |  Methods defined here:\n",
      " |\n",
      " |  __call__(self, /, *args, **kwargs)\n",
      " |      Call self as a function.\n",
      " |\n",
      " |  __delattr__(self, name, /)\n",
      " |      Implement delattr(self, name).\n",
      " |\n",
      " |  __dir__(self, /)\n",
      " |      Specialized __dir__ implementation for types.\n",
      " |\n",
      " |  __getattribute__(self, name, /)\n",
      " |      Return getattr(self, name).\n",
      " |\n",
      " |  __init__(self, /, *args, **kwargs)\n",
      " |      Initialize self.  See help(type(self)) for accurate signature.\n",
      " |\n",
      " |  __instancecheck__(self, instance, /)\n",
      " |      Check if an object is an instance.\n",
      " |\n",
      " |  __or__(self, value, /)\n",
      " |      Return self|value.\n",
      " |\n",
      " |  __repr__(self, /)\n",
      " |      Return repr(self).\n",
      " |\n",
      " |  __ror__(self, value, /)\n",
      " |      Return value|self.\n",
      " |\n",
      " |  __setattr__(self, name, value, /)\n",
      " |      Implement setattr(self, name, value).\n",
      " |\n",
      " |  __sizeof__(self, /)\n",
      " |      Return memory consumption of the type object.\n",
      " |\n",
      " |  __subclasscheck__(self, subclass, /)\n",
      " |      Check if a class is a subclass.\n",
      " |\n",
      " |  __subclasses__(self, /)\n",
      " |      Return a list of immediate subclasses.\n",
      " |\n",
      " |  mro(self, /)\n",
      " |      Return a type's method resolution order.\n",
      " |\n",
      " |  ----------------------------------------------------------------------\n",
      " |  Class methods defined here:\n",
      " |\n",
      " |  __prepare__(...)\n",
      " |      __prepare__() -> dict\n",
      " |      used to create the namespace for the class statement\n",
      " |\n",
      " |  ----------------------------------------------------------------------\n",
      " |  Static methods defined here:\n",
      " |\n",
      " |  __new__(*args, **kwargs)\n",
      " |      Create and return a new object.  See help(type) for accurate signature.\n",
      " |\n",
      " |  ----------------------------------------------------------------------\n",
      " |  Data descriptors defined here:\n",
      " |\n",
      " |  __abstractmethods__\n",
      " |\n",
      " |  __annotations__\n",
      " |\n",
      " |  __dict__\n",
      " |\n",
      " |  __text_signature__\n",
      " |\n",
      " |  ----------------------------------------------------------------------\n",
      " |  Data and other attributes defined here:\n",
      " |\n",
      " |  __base__ = <class 'object'>\n",
      " |      The base class of the class hierarchy.\n",
      " |\n",
      " |      When called, it accepts no arguments and returns a new featureless\n",
      " |      instance that has no instance attributes and cannot be given any.\n",
      " |\n",
      " |\n",
      " |  __bases__ = (<class 'object'>,)\n",
      " |\n",
      " |  __basicsize__ = 920\n",
      " |\n",
      " |  __dictoffset__ = 264\n",
      " |\n",
      " |  __flags__ = 2156420354\n",
      " |\n",
      " |  __itemsize__ = 40\n",
      " |\n",
      " |  __mro__ = (<class 'type'>, <class 'object'>)\n",
      " |\n",
      " |  __type_params__ = ()\n",
      " |\n",
      " |  __weakrefoffset__ = 368\n",
      "\n"
     ]
    }
   ],
   "source": [
    "help(type)"
   ]
  },
  {
   "cell_type": "code",
   "execution_count": 49,
   "id": "f1140fa8",
   "metadata": {},
   "outputs": [
    {
     "name": "stdout",
     "output_type": "stream",
     "text": [
      "42\n"
     ]
    }
   ],
   "source": [
    "MyClass = type(\"MyClass\", (), {\"x\": 42})\n",
    "obj = MyClass()\n",
    "print(obj.x)  # 42\n"
   ]
  },
  {
   "cell_type": "code",
   "execution_count": null,
   "id": "1fdfb89f",
   "metadata": {},
   "outputs": [],
   "source": [
    "# yuqoridagi manashunga teng\n",
    "class MyClass:\n",
    "    x = 42"
   ]
  },
  {
   "cell_type": "code",
   "execution_count": 52,
   "id": "9ef9971b",
   "metadata": {},
   "outputs": [
    {
     "data": {
      "text/plain": [
       "False"
      ]
     },
     "execution_count": 52,
     "metadata": {},
     "output_type": "execute_result"
    }
   ],
   "source": [
    "# BU yerda classni tekshirmoqchi lekin hato bu\n",
    "isinstance(Person, Person)"
   ]
  },
  {
   "cell_type": "code",
   "execution_count": 17,
   "id": "6adff00f",
   "metadata": {},
   "outputs": [
    {
     "name": "stdout",
     "output_type": "stream",
     "text": [
      "True\n"
     ]
    }
   ],
   "source": [
    "# Siz Person klassidan obyekt yaratib, uni tekshirishingiz kerak:\n",
    "class Person:\n",
    "    pass\n",
    "\n",
    "p1 = Person()\n",
    "\n",
    "print(isinstance(p1, Person))   # ✅ True chiqadi\n"
   ]
  },
  {
   "cell_type": "markdown",
   "id": "0dc5e04a",
   "metadata": {},
   "source": [
    "### Class Attributes"
   ]
  },
  {
   "cell_type": "code",
   "execution_count": 37,
   "id": "b8c6e572",
   "metadata": {},
   "outputs": [],
   "source": [
    "class Person:\n",
    "    pass"
   ]
  },
  {
   "cell_type": "code",
   "execution_count": 19,
   "id": "844f2452",
   "metadata": {},
   "outputs": [
    {
     "data": {
      "text/plain": [
       "'Person'"
      ]
     },
     "execution_count": 19,
     "metadata": {},
     "output_type": "execute_result"
    }
   ],
   "source": [
    "Person.__name__"
   ]
  },
  {
   "cell_type": "markdown",
   "id": "eeb7b14e",
   "metadata": {},
   "source": [
    "\"__name__ bu klass atributi (class attribute) hisoblanadi. Biz o‘zimizning klass atributlarimizni ham shu tarzda osongina qo‘shishimiz mumkin:\""
   ]
  },
  {
   "cell_type": "code",
   "execution_count": 20,
   "id": "aaffbcf8",
   "metadata": {},
   "outputs": [],
   "source": [
    "class Program:\n",
    "    language = 'Python'\n",
    "    version = '3.6'"
   ]
  },
  {
   "cell_type": "code",
   "execution_count": 21,
   "id": "7499066a",
   "metadata": {},
   "outputs": [
    {
     "data": {
      "text/plain": [
       "'Program'"
      ]
     },
     "execution_count": 21,
     "metadata": {},
     "output_type": "execute_result"
    }
   ],
   "source": [
    "Program.__name__"
   ]
  },
  {
   "cell_type": "code",
   "execution_count": 22,
   "id": "d48bcd33",
   "metadata": {},
   "outputs": [
    {
     "data": {
      "text/plain": [
       "'Python'"
      ]
     },
     "execution_count": 22,
     "metadata": {},
     "output_type": "execute_result"
    }
   ],
   "source": [
    "Program.language"
   ]
  },
  {
   "cell_type": "code",
   "execution_count": 23,
   "id": "5aec13b9",
   "metadata": {},
   "outputs": [
    {
     "data": {
      "text/plain": [
       "'3.6'"
      ]
     },
     "execution_count": 23,
     "metadata": {},
     "output_type": "execute_result"
    }
   ],
   "source": [
    "Program.version"
   ]
  },
  {
   "cell_type": "markdown",
   "id": "9e0e99d1",
   "metadata": {},
   "source": [
    "Lekin biz bu atributlarni o‘qish (read) va yozish (write) uchun getattr va setattr funksiyalaridan ham foydalanishimiz mumkin."
   ]
  },
  {
   "cell_type": "code",
   "execution_count": 24,
   "id": "e8229b16",
   "metadata": {},
   "outputs": [
    {
     "data": {
      "text/plain": [
       "'3.6'"
      ]
     },
     "execution_count": 24,
     "metadata": {},
     "output_type": "execute_result"
    }
   ],
   "source": [
    "getattr(Program, 'version')"
   ]
  },
  {
   "cell_type": "code",
   "execution_count": 25,
   "id": "727d2d40",
   "metadata": {},
   "outputs": [],
   "source": [
    "setattr(Program, 'version', '3.6')"
   ]
  },
  {
   "cell_type": "code",
   "execution_count": 26,
   "id": "8bccc597",
   "metadata": {},
   "outputs": [
    {
     "data": {
      "text/plain": [
       "('3.6', '3.6')"
      ]
     },
     "execution_count": 26,
     "metadata": {},
     "output_type": "execute_result"
    }
   ],
   "source": [
    "Program.version, getattr(Program, 'version')"
   ]
  },
  {
   "cell_type": "markdown",
   "id": "f6f4090d",
   "metadata": {},
   "source": [
    "Python bu dinamik til bo‘lib, biz atributlarni bajarilish vaqtida — ya’ni klass ta’rifidan tashqarida ham — yaratishimiz mumkin:"
   ]
  },
  {
   "cell_type": "code",
   "execution_count": 53,
   "id": "90e8bfc9",
   "metadata": {},
   "outputs": [],
   "source": [
    "Program.x='xXx'"
   ]
  },
  {
   "cell_type": "markdown",
   "id": "e81fc856",
   "metadata": {},
   "source": [
    "Nuqtali yozuv (dotted notation) yordamida biz Person klassiga x nomli atribut qo‘shdik:"
   ]
  },
  {
   "cell_type": "code",
   "execution_count": 54,
   "id": "3731f6df",
   "metadata": {},
   "outputs": [
    {
     "data": {
      "text/plain": [
       "('xXx', 'xXx')"
      ]
     },
     "execution_count": 54,
     "metadata": {},
     "output_type": "execute_result"
    }
   ],
   "source": [
    "Program.x, getattr(Program, 'x')"
   ]
  },
  {
   "cell_type": "markdown",
   "id": "2a33b37d",
   "metadata": {},
   "source": [
    "Biz bundan tashqari setattr funksiyasi chaqirig‘idan ham foydalansak bo‘lardi:"
   ]
  },
  {
   "cell_type": "code",
   "execution_count": 29,
   "id": "5205fb05",
   "metadata": {},
   "outputs": [],
   "source": [
    "setattr(Program, 'y', 200)"
   ]
  },
  {
   "cell_type": "code",
   "execution_count": 30,
   "id": "ac236c03",
   "metadata": {},
   "outputs": [
    {
     "data": {
      "text/plain": [
       "(200, 200)"
      ]
     },
     "execution_count": 30,
     "metadata": {},
     "output_type": "execute_result"
    }
   ],
   "source": [
    "Program.y, getattr(Program, 'y')"
   ]
  },
  {
   "cell_type": "markdown",
   "id": "0d8f885f",
   "metadata": {},
   "source": [
    "\"Xo‘sh, holat (state) qayerda saqlanadi? Odatda bu lug‘atda (dictionary) saqlanadi, u klass obyektiga biriktirilgan bo‘ladi (ko‘pincha bu klassning nomlar fazosi (namespace) deb ataladi):\""
   ]
  },
  {
   "cell_type": "code",
   "execution_count": 31,
   "id": "f307bd84",
   "metadata": {},
   "outputs": [
    {
     "data": {
      "text/plain": [
       "mappingproxy({'__module__': '__main__',\n",
       "              'language': 'Python',\n",
       "              'version': '3.6',\n",
       "              '__dict__': <attribute '__dict__' of 'Program' objects>,\n",
       "              '__weakref__': <attribute '__weakref__' of 'Program' objects>,\n",
       "              '__doc__': None,\n",
       "              'x': 100,\n",
       "              'y': 200})"
      ]
     },
     "execution_count": 31,
     "metadata": {},
     "output_type": "execute_result"
    }
   ],
   "source": [
    "Program.__dict__"
   ]
  },
  {
   "cell_type": "markdown",
   "id": "452f2681",
   "metadata": {},
   "source": [
    "#### Deleting Attributes"
   ]
  },
  {
   "cell_type": "markdown",
   "id": "4757a793",
   "metadata": {},
   "source": [
    "Demak, biz dastur ish vaqtida (run-time) klass atributlarini yaratish va ularni o‘zgartirishimiz (mutatsiya qilishimiz) mumkin.\n",
    "Xo‘sh, atributlarni o‘chirish ham mumkinmi?\n",
    "\n",
    "Albatta, javob: ha.\n",
    "Buning uchun biz del kalit so‘zidan, yoki delattr funksiyasidan foydalanishimiz mumkin:"
   ]
  },
  {
   "cell_type": "code",
   "execution_count": 32,
   "id": "907324f9",
   "metadata": {},
   "outputs": [],
   "source": [
    "del Program.x"
   ]
  },
  {
   "cell_type": "code",
   "execution_count": 33,
   "id": "99dccf3f",
   "metadata": {},
   "outputs": [
    {
     "data": {
      "text/plain": [
       "mappingproxy({'__module__': '__main__',\n",
       "              'language': 'Python',\n",
       "              'version': '3.6',\n",
       "              '__dict__': <attribute '__dict__' of 'Program' objects>,\n",
       "              '__weakref__': <attribute '__weakref__' of 'Program' objects>,\n",
       "              '__doc__': None,\n",
       "              'y': 200})"
      ]
     },
     "execution_count": 33,
     "metadata": {},
     "output_type": "execute_result"
    }
   ],
   "source": [
    "Program.__dict__"
   ]
  },
  {
   "cell_type": "code",
   "execution_count": 34,
   "id": "4fe99d14",
   "metadata": {},
   "outputs": [],
   "source": [
    "del Program.y"
   ]
  },
  {
   "cell_type": "code",
   "execution_count": 35,
   "id": "cb9269b0",
   "metadata": {},
   "outputs": [
    {
     "data": {
      "text/plain": [
       "mappingproxy({'__module__': '__main__',\n",
       "              'language': 'Python',\n",
       "              'version': '3.6',\n",
       "              '__dict__': <attribute '__dict__' of 'Program' objects>,\n",
       "              '__weakref__': <attribute '__weakref__' of 'Program' objects>,\n",
       "              '__doc__': None})"
      ]
     },
     "execution_count": 35,
     "metadata": {},
     "output_type": "execute_result"
    }
   ],
   "source": [
    "Program.__dict__"
   ]
  },
  {
   "cell_type": "code",
   "execution_count": 36,
   "id": "dca50a3b",
   "metadata": {},
   "outputs": [
    {
     "ename": "AttributeError",
     "evalue": "type object 'Program' has no attribute 'y'",
     "output_type": "error",
     "traceback": [
      "\u001b[31m---------------------------------------------------------------------------\u001b[39m",
      "\u001b[31mAttributeError\u001b[39m                            Traceback (most recent call last)",
      "\u001b[36mCell\u001b[39m\u001b[36m \u001b[39m\u001b[32mIn[36]\u001b[39m\u001b[32m, line 1\u001b[39m\n\u001b[32m----> \u001b[39m\u001b[32m1\u001b[39m \u001b[38;5;28;43mdelattr\u001b[39;49m\u001b[43m(\u001b[49m\u001b[43mProgram\u001b[49m\u001b[43m,\u001b[49m\u001b[43m \u001b[49m\u001b[33;43m'\u001b[39;49m\u001b[33;43my\u001b[39;49m\u001b[33;43m'\u001b[39;49m\u001b[43m)\u001b[49m\n",
      "\u001b[31mAttributeError\u001b[39m: type object 'Program' has no attribute 'y'"
     ]
    }
   ],
   "source": [
    "delattr(Program, 'y')"
   ]
  },
  {
   "cell_type": "code",
   "execution_count": null,
   "id": "9d8ffe48",
   "metadata": {},
   "outputs": [
    {
     "data": {
      "text/plain": [
       "mappingproxy({'__module__': '__main__',\n",
       "              'language': 'Python',\n",
       "              'version': '3.6',\n",
       "              '__dict__': <attribute '__dict__' of 'Program' objects>,\n",
       "              '__weakref__': <attribute '__weakref__' of 'Program' objects>,\n",
       "              '__doc__': None})"
      ]
     },
     "execution_count": 38,
     "metadata": {},
     "output_type": "execute_result"
    }
   ],
   "source": [
    "Program.__dict__"
   ]
  },
  {
   "cell_type": "code",
   "execution_count": null,
   "id": "83f80a5f",
   "metadata": {},
   "outputs": [
    {
     "data": {
      "text/plain": [
       "'Python'"
      ]
     },
     "execution_count": 39,
     "metadata": {},
     "output_type": "execute_result"
    }
   ],
   "source": [
    "Program.__dict__['language']"
   ]
  },
  {
   "cell_type": "code",
   "execution_count": 55,
   "id": "5cb30e68",
   "metadata": {},
   "outputs": [
    {
     "data": {
      "text/plain": [
       "mappingproxy({'__module__': '__main__',\n",
       "              'language': 'Python',\n",
       "              'version': '3.6',\n",
       "              '__dict__': <attribute '__dict__' of 'Program' objects>,\n",
       "              '__weakref__': <attribute '__weakref__' of 'Program' objects>,\n",
       "              '__doc__': None,\n",
       "              'x': 'xXx'})"
      ]
     },
     "execution_count": 55,
     "metadata": {},
     "output_type": "execute_result"
    }
   ],
   "source": [
    "Program.__dict__"
   ]
  },
  {
   "cell_type": "code",
   "execution_count": null,
   "id": "11b3738b",
   "metadata": {},
   "outputs": [
    {
     "data": {
      "text/plain": [
       "False"
      ]
     },
     "execution_count": 40,
     "metadata": {},
     "output_type": "execute_result"
    }
   ],
   "source": [
    "__name__ in Program.__dict__"
   ]
  },
  {
   "cell_type": "code",
   "execution_count": null,
   "id": "7bd9fa63",
   "metadata": {},
   "outputs": [
    {
     "data": {
      "text/plain": [
       "True"
      ]
     },
     "execution_count": 41,
     "metadata": {},
     "output_type": "execute_result"
    }
   ],
   "source": [
    "'version' in Program.__dict__"
   ]
  },
  {
   "cell_type": "markdown",
   "id": "9b2930fd",
   "metadata": {},
   "source": [
    "Chaqariladigan (ya'ni, funksiyadek ishlaydigan) klass atributlari"
   ]
  },
  {
   "cell_type": "markdown",
   "id": "5381d439",
   "metadata": {},
   "source": [
    "Klass atributlari istalgan obyekt turi bo'lishi mumkin, \n",
    "shu jumladan chaqiriladigan obyektlar (masalan, funksiyalar) ham:"
   ]
  },
  {
   "cell_type": "code",
   "execution_count": 63,
   "id": "dff47157",
   "metadata": {},
   "outputs": [
    {
     "name": "stdout",
     "output_type": "stream",
     "text": [
      "Hello from Python\n",
      "None\n"
     ]
    }
   ],
   "source": [
    "class Program:\n",
    "    language = 'Python' # Bu class attributi\n",
    "\n",
    "    def say_hello():\n",
    "        print(f'Hello from {Program.language}')\n",
    "    \n",
    "    print(say_hello())"
   ]
  },
  {
   "cell_type": "code",
   "execution_count": null,
   "id": "bd2120f4",
   "metadata": {},
   "outputs": [
    {
     "data": {
      "text/plain": [
       "mappingproxy({'__module__': '__main__',\n",
       "              'language': 'Python',\n",
       "              'say_hello': <function __main__.Program.say_hello()>,\n",
       "              '__dict__': <attribute '__dict__' of 'Program' objects>,\n",
       "              '__weakref__': <attribute '__weakref__' of 'Program' objects>,\n",
       "              '__doc__': None})"
      ]
     },
     "execution_count": 43,
     "metadata": {},
     "output_type": "execute_result"
    }
   ],
   "source": [
    "Program.__dict__"
   ]
  },
  {
   "cell_type": "code",
   "execution_count": null,
   "id": "c1ea472c",
   "metadata": {},
   "outputs": [
    {
     "name": "stdout",
     "output_type": "stream",
     "text": [
      "Hello from Python\n"
     ]
    }
   ],
   "source": [
    "Program.say_hello()"
   ]
  },
  {
   "cell_type": "markdown",
   "id": "4444740b",
   "metadata": {},
   "source": [
    "Ko‘rib turganimizdek, say_hello belgisi klass lug‘atida (ya’ni class dictionary) mavjud.\n",
    "\n",
    "Biz uni getattr funksiyasi yoki nuqtali yozuv (dotted notation) orqali ham olishimiz mumkin:"
   ]
  },
  {
   "cell_type": "code",
   "execution_count": null,
   "id": "9dd090ff",
   "metadata": {},
   "outputs": [
    {
     "data": {
      "text/plain": [
       "(<function __main__.Program.say_hello()>,\n",
       " <function __main__.Program.say_hello()>)"
      ]
     },
     "execution_count": 47,
     "metadata": {},
     "output_type": "execute_result"
    }
   ],
   "source": [
    "Program.say_hello, getattr(Program, 'say_hello')"
   ]
  },
  {
   "cell_type": "code",
   "execution_count": null,
   "id": "2a89752d",
   "metadata": {},
   "outputs": [
    {
     "name": "stdout",
     "output_type": "stream",
     "text": [
      "Hello from Python\n"
     ]
    }
   ],
   "source": [
    "attr_name = 'say_hello'\n",
    "method = getattr(Program, attr_name)\n",
    "method()"
   ]
  },
  {
   "cell_type": "code",
   "execution_count": 65,
   "id": "bd599517",
   "metadata": {},
   "outputs": [
    {
     "name": "stdout",
     "output_type": "stream",
     "text": [
      "Hello from Python\n"
     ]
    }
   ],
   "source": [
    "Program.__dict__['say_hello']()"
   ]
  },
  {
   "cell_type": "markdown",
   "id": "2f2465af",
   "metadata": {},
   "source": [
    "### Classes are Callable"
   ]
  },
  {
   "cell_type": "markdown",
   "id": "d7460859",
   "metadata": {},
   "source": [
    "Oldin ko‘rganimizdek, Python biz klass yaratganimizda shunday narsalardan birini bajaradiki — u klassni chaqiriladigan (callable) qiladi.\n",
    "Klassni chaqirish — o‘sha klassdan yangi bir nusxa (obyekt) yaratadi, ya’ni aynan o‘sha turdagi obyekt hosil bo‘ladi."
   ]
  },
  {
   "cell_type": "code",
   "execution_count": 74,
   "id": "cfdb308b",
   "metadata": {},
   "outputs": [],
   "source": [
    "class Program:\n",
    "    language = 'Python'\n",
    "    \n",
    "    def say_hello():\n",
    "        print(f'Hello from {Program.language}!')"
   ]
  },
  {
   "cell_type": "code",
   "execution_count": 67,
   "id": "75144d2f",
   "metadata": {},
   "outputs": [],
   "source": [
    "p = Program()"
   ]
  },
  {
   "cell_type": "code",
   "execution_count": 68,
   "id": "e6c30645",
   "metadata": {},
   "outputs": [
    {
     "data": {
      "text/plain": [
       "__main__.Program"
      ]
     },
     "execution_count": 68,
     "metadata": {},
     "output_type": "execute_result"
    }
   ],
   "source": [
    "type(p)"
   ]
  },
  {
   "cell_type": "code",
   "execution_count": 69,
   "id": "f62e3140",
   "metadata": {},
   "outputs": [
    {
     "data": {
      "text/plain": [
       "True"
      ]
     },
     "execution_count": 69,
     "metadata": {},
     "output_type": "execute_result"
    }
   ],
   "source": [
    "isinstance(p, Program)"
   ]
  },
  {
   "cell_type": "code",
   "execution_count": 73,
   "id": "ab8ab53f",
   "metadata": {},
   "outputs": [
    {
     "data": {
      "text/plain": [
       "{'name': 'Sherzod'}"
      ]
     },
     "execution_count": 73,
     "metadata": {},
     "output_type": "execute_result"
    }
   ],
   "source": [
    "p.__dict__"
   ]
  },
  {
   "cell_type": "code",
   "execution_count": 72,
   "id": "cdb60eab",
   "metadata": {},
   "outputs": [],
   "source": [
    "p.name='Sherzod'"
   ]
  },
  {
   "cell_type": "markdown",
   "id": "faa6222a",
   "metadata": {},
   "source": [
    "Bu instansiyalarning (nusxalarning) o‘ziga xos nomlar fazosi (namespace) va __dict__ atributi mavjud bo‘lib, ular klassning __dict__ atributidan farq qiladi."
   ]
  },
  {
   "cell_type": "code",
   "execution_count": 75,
   "id": "47eac2ac",
   "metadata": {},
   "outputs": [
    {
     "data": {
      "text/plain": [
       "mappingproxy({'__module__': '__main__',\n",
       "              'language': 'Python',\n",
       "              'say_hello': <function __main__.Program.say_hello()>,\n",
       "              '__dict__': <attribute '__dict__' of 'Program' objects>,\n",
       "              '__weakref__': <attribute '__weakref__' of 'Program' objects>,\n",
       "              '__doc__': None})"
      ]
     },
     "execution_count": 75,
     "metadata": {},
     "output_type": "execute_result"
    }
   ],
   "source": [
    "Program.__dict__"
   ]
  },
  {
   "cell_type": "code",
   "execution_count": 76,
   "id": "8fc6f8f8",
   "metadata": {},
   "outputs": [
    {
     "data": {
      "text/plain": [
       "__main__.Program"
      ]
     },
     "execution_count": 76,
     "metadata": {},
     "output_type": "execute_result"
    }
   ],
   "source": [
    "p.__class__"
   ]
  },
  {
   "cell_type": "code",
   "execution_count": 78,
   "id": "82b73380",
   "metadata": {},
   "outputs": [
    {
     "name": "stdout",
     "output_type": "stream",
     "text": [
      "{'name': 'Sherzod', 'version': 25, 'ver': 25}\n"
     ]
    }
   ],
   "source": [
    "p.ver = 25\n",
    "print(p.__dict__)"
   ]
  },
  {
   "cell_type": "code",
   "execution_count": 79,
   "id": "7375b412",
   "metadata": {},
   "outputs": [
    {
     "data": {
      "text/plain": [
       "True"
      ]
     },
     "execution_count": 79,
     "metadata": {},
     "output_type": "execute_result"
    }
   ],
   "source": [
    "type(p) is p.__class__"
   ]
  },
  {
   "cell_type": "code",
   "execution_count": 80,
   "id": "ea26a3b6",
   "metadata": {},
   "outputs": [],
   "source": [
    "class MyClass:\n",
    "    pass"
   ]
  },
  {
   "cell_type": "code",
   "execution_count": null,
   "id": "919ba90f",
   "metadata": {},
   "outputs": [],
   "source": [
    "m = MyClass()"
   ]
  },
  {
   "cell_type": "code",
   "execution_count": 84,
   "id": "5a8c286c",
   "metadata": {},
   "outputs": [
    {
     "data": {
      "text/plain": [
       "(__main__.MyClass, __main__.MyClass)"
      ]
     },
     "execution_count": 84,
     "metadata": {},
     "output_type": "execute_result"
    }
   ],
   "source": [
    "type(m), m.__class__"
   ]
  },
  {
   "cell_type": "markdown",
   "id": "87150837",
   "metadata": {},
   "source": [
    "Ammo bu erda nima sodir bo'layotganiga qarang:"
   ]
  },
  {
   "cell_type": "code",
   "execution_count": 85,
   "id": "6739ae9b",
   "metadata": {},
   "outputs": [],
   "source": [
    "class MyClass:\n",
    "    __class__ = str"
   ]
  },
  {
   "cell_type": "code",
   "execution_count": 86,
   "id": "7e71fd8e",
   "metadata": {},
   "outputs": [
    {
     "name": "stdout",
     "output_type": "stream",
     "text": [
      "<class '__main__.MyClass'>\n",
      "<class 'str'>\n",
      "<class 'type'>\n"
     ]
    }
   ],
   "source": [
    "class MyClass:\n",
    "    __class__ = str\n",
    "\n",
    "obj = MyClass()\n",
    "\n",
    "print(type(obj))         # <class '__main__.MyClass'>\n",
    "print(obj.__class__)     # <class '__main__.MyClass'>\n",
    "print(MyClass.__class__) # <class 'type'>\n"
   ]
  },
  {
   "cell_type": "code",
   "execution_count": 87,
   "id": "13605819",
   "metadata": {},
   "outputs": [],
   "source": [
    "m = MyClass()"
   ]
  },
  {
   "cell_type": "code",
   "execution_count": null,
   "id": "7b7e39a0",
   "metadata": {},
   "outputs": [
    {
     "data": {
      "text/plain": [
       "(__main__.MyClass, str)"
      ]
     },
     "execution_count": 88,
     "metadata": {},
     "output_type": "execute_result"
    }
   ],
   "source": [
    "# \"Ko‘rib turganingizdek, type aldanmadi!\"\n",
    "type(m), m.__class__"
   ]
  },
  {
   "cell_type": "markdown",
   "id": "657f5aa0",
   "metadata": {},
   "source": [
    "# Data Attributes"
   ]
  },
  {
   "cell_type": "markdown",
   "id": "68ecea00",
   "metadata": {},
   "source": [
    "Keling, avval ma’lumot atributlariga (ya’ni chaqirib bo‘lmaydigan — callable bo‘lmagan) e’tibor qaratamiz.\n",
    "\n",
    "Oldin ko‘rganimizdek, biz klass atributlariga ega bo‘lishimiz mumkin — ular klassning __dict__ lug‘atida saqlanadi."
   ]
  },
  {
   "cell_type": "code",
   "execution_count": 96,
   "id": "b3b9e7bc",
   "metadata": {},
   "outputs": [],
   "source": [
    "class BankAccount:\n",
    "    apr = 1.2"
   ]
  },
  {
   "cell_type": "code",
   "execution_count": 97,
   "id": "537981fd",
   "metadata": {},
   "outputs": [
    {
     "data": {
      "text/plain": [
       "mappingproxy({'__module__': '__main__',\n",
       "              'apr': 1.2,\n",
       "              '__dict__': <attribute '__dict__' of 'BankAccount' objects>,\n",
       "              '__weakref__': <attribute '__weakref__' of 'BankAccount' objects>,\n",
       "              '__doc__': None})"
      ]
     },
     "execution_count": 97,
     "metadata": {},
     "output_type": "execute_result"
    }
   ],
   "source": [
    "BankAccount.__dict__"
   ]
  },
  {
   "cell_type": "code",
   "execution_count": 98,
   "id": "71b7b621",
   "metadata": {},
   "outputs": [
    {
     "data": {
      "text/plain": [
       "1.2"
      ]
     },
     "execution_count": 98,
     "metadata": {},
     "output_type": "execute_result"
    }
   ],
   "source": [
    "BankAccount.apr"
   ]
  },
  {
   "cell_type": "code",
   "execution_count": 99,
   "id": "0e4145fa",
   "metadata": {},
   "outputs": [],
   "source": [
    "acc_1 = BankAccount()\n",
    "acc_2 = BankAccount()"
   ]
  },
  {
   "cell_type": "code",
   "execution_count": 101,
   "id": "75585960",
   "metadata": {},
   "outputs": [
    {
     "data": {
      "text/plain": [
       "({}, {})"
      ]
     },
     "execution_count": 101,
     "metadata": {},
     "output_type": "execute_result"
    }
   ],
   "source": [
    "# dastlab ular bo`sh bo`ladi\n",
    "acc_1.__dict__, acc_2.__dict__"
   ]
  },
  {
   "cell_type": "code",
   "execution_count": 103,
   "id": "380f6914",
   "metadata": {},
   "outputs": [],
   "source": [
    "# Bu qiymat qayerdan kelmoqda? — Obyektlar yaratilgan klassdan!\n",
    "# Aslida, agar biz klass atributini o‘zgartirsak:\n",
    "\n",
    "BankAccount.apr = 2.5"
   ]
  },
  {
   "cell_type": "code",
   "execution_count": 104,
   "id": "e3db1ceb",
   "metadata": {},
   "outputs": [
    {
     "data": {
      "text/plain": [
       "(2.5, 2.5)"
      ]
     },
     "execution_count": 104,
     "metadata": {},
     "output_type": "execute_result"
    }
   ],
   "source": [
    "acc_1.apr, acc_2.apr"
   ]
  },
  {
   "cell_type": "code",
   "execution_count": 105,
   "id": "e551ea04",
   "metadata": {},
   "outputs": [],
   "source": [
    "BankAccount.account_type = 'Savings'"
   ]
  },
  {
   "cell_type": "code",
   "execution_count": 106,
   "id": "bec22a81",
   "metadata": {},
   "outputs": [
    {
     "data": {
      "text/plain": [
       "('Savings', 'Savings')"
      ]
     },
     "execution_count": 106,
     "metadata": {},
     "output_type": "execute_result"
    }
   ],
   "source": [
    "acc_1.account_type, acc_2.account_type"
   ]
  },
  {
   "cell_type": "markdown",
   "id": "1ed57c78",
   "metadata": {},
   "source": [
    "Ko‘rib turganingizdek, klassdagi atributlarni o‘zgartirish instansiyalarda ham aks etadi — sababi shundaki, Python apr atributini instansiya (__dict__) ichida topa olmagach, keyingi qadam sifatida ushbu instansiyani yaratgan klass ichidan qidiradi.\n",
    "\n",
    "Bu esa quyidagi savolni tug‘diradi: agar biz apr atributini instansiyaning o‘z __dict__ lug‘atiga qo‘shsak nima bo‘ladi?"
   ]
  },
  {
   "cell_type": "code",
   "execution_count": 107,
   "id": "5ab3c79a",
   "metadata": {},
   "outputs": [],
   "source": [
    "acc_1.apr = 0"
   ]
  },
  {
   "cell_type": "code",
   "execution_count": 108,
   "id": "49cbc370",
   "metadata": {},
   "outputs": [
    {
     "data": {
      "text/plain": [
       "({'apr': 0}, {})"
      ]
     },
     "execution_count": 108,
     "metadata": {},
     "output_type": "execute_result"
    }
   ],
   "source": [
    "acc_1.__dict__, acc_2.__dict__"
   ]
  },
  {
   "cell_type": "markdown",
   "id": "803aef16",
   "metadata": {},
   "source": [
    "Ko‘rib turganingizdek, biz aslida acc_1 instansiyasining __dict__ (ya’ni holat lug‘ati) ichida apr uchun yozuv (entry) yaratdik.\n",
    "\n",
    "Endi, apr atributining qiymatini acc_1 dan olishga harakat qilsak, Python avval instansiyaning __dict__ lug‘atida uni topadi, shuning uchun klassdagisiga emas, aynan instansiyadagisiga murojaat qiladi!"
   ]
  },
  {
   "cell_type": "code",
   "execution_count": 109,
   "id": "c344060b",
   "metadata": {},
   "outputs": [
    {
     "data": {
      "text/plain": [
       "(0, 2.5)"
      ]
     },
     "execution_count": 109,
     "metadata": {},
     "output_type": "execute_result"
    }
   ],
   "source": [
    "acc_1.apr, acc_2.apr"
   ]
  },
  {
   "cell_type": "markdown",
   "id": "e311811a",
   "metadata": {},
   "source": [
    "Aslida, instansiyadagi apr atributi klassdagi apr atributini yashirib turibdi (ya’ni ustiga yozilmoqda).\n",
    "\n",
    "Shuningdek, siz shuni ham payqaysizki, acc_2 hech qanday ta’sir ko‘rmadi — buning sababi, biz faqat acc_1ning lug‘atini (__dict__) o‘zgartirdik, acc_2ning lug‘atiga esa tegmadik.\n",
    "\n",
    "Shuningdek, getattr va setattr funksiyalari nuqta (.) notatsiyasi bilan bir xil tarzda ishlaydi."
   ]
  },
  {
   "cell_type": "code",
   "execution_count": 110,
   "id": "ba5aeb18",
   "metadata": {},
   "outputs": [
    {
     "name": "stdout",
     "output_type": "stream",
     "text": [
      "{}\n",
      "2.5\n",
      "2.5\n"
     ]
    }
   ],
   "source": [
    "acc_1 = BankAccount()\n",
    "print(acc_1.__dict__)\n",
    "print(acc_1.apr)\n",
    "print(getattr(acc_1, 'apr'))"
   ]
  },
  {
   "cell_type": "code",
   "execution_count": 111,
   "id": "9d5edd31",
   "metadata": {},
   "outputs": [
    {
     "name": "stdout",
     "output_type": "stream",
     "text": [
      "{'apr': 0}\n",
      "0\n",
      "0\n"
     ]
    }
   ],
   "source": [
    "setattr(acc_1, 'apr', 0)\n",
    "print(acc_1.__dict__)\n",
    "print(acc_1.apr)\n",
    "print(getattr(acc_1, 'apr'))"
   ]
  },
  {
   "cell_type": "markdown",
   "id": "818e7f9d",
   "metadata": {},
   "source": [
    "Biz hatto instansiyaga atributlarni to‘g‘ridan-to‘g‘ri qo‘shishimiz ham mumkin:"
   ]
  },
  {
   "cell_type": "code",
   "execution_count": 112,
   "id": "51c80b6a",
   "metadata": {},
   "outputs": [],
   "source": [
    "acc_1.bank = 'Acme Savings & Loans'"
   ]
  },
  {
   "cell_type": "code",
   "execution_count": 113,
   "id": "658923c8",
   "metadata": {},
   "outputs": [
    {
     "data": {
      "text/plain": [
       "{'apr': 0, 'bank': 'Acme Savings & Loans'}"
      ]
     },
     "execution_count": 113,
     "metadata": {},
     "output_type": "execute_result"
    }
   ],
   "source": [
    "acc_1.__dict__"
   ]
  },
  {
   "cell_type": "markdown",
   "id": "d943ca35",
   "metadata": {},
   "source": [
    "Lekin bu faqat shu instansiyaga xos bo‘ladi, ya’ni faqat o‘sha aniq instansiya uchun amal qiladi."
   ]
  },
  {
   "cell_type": "code",
   "execution_count": 114,
   "id": "6c1be791",
   "metadata": {},
   "outputs": [],
   "source": [
    "acc_2 = BankAccount()"
   ]
  },
  {
   "cell_type": "code",
   "execution_count": 115,
   "id": "80e19507",
   "metadata": {},
   "outputs": [
    {
     "data": {
      "text/plain": [
       "{}"
      ]
     },
     "execution_count": 115,
     "metadata": {},
     "output_type": "execute_result"
    }
   ],
   "source": [
    "acc_2.__dict__"
   ]
  },
  {
   "cell_type": "markdown",
   "id": "7b2d7528",
   "metadata": {},
   "source": [
    "Shuning uchun klass atributlari bilan instansiya atributlari o‘rtasidagi farqni aniq ajratish juda muhim.\n",
    "\n",
    "Klass atributlari — bu barcha instansiyalar uchun \"umumiy\" bo‘lgan atributlar kabi; chunki bu atributlar instansiyaning ichida emas, balki klassning o‘zida saqlanadi.\n",
    "\n",
    "Boshqa tomondan esa, instansiya atributlari — har bir instansiyaga xos bo‘ladi. Bir xil nomdagi atributlarning qiymati har xil instansiyalarda turlicha bo‘lishi mumkin, xuddi acc_1.apr va acc_2.apr misolida ko‘rganimizdek."
   ]
  },
  {
   "cell_type": "markdown",
   "id": "2dc719f7",
   "metadata": {},
   "source": [
    "Xulosa qilib aytganda, klasslar va instansiyalar har biri o‘zining holatiga ega bo‘ladi — bu holat odatda lug‘at (__dict__) orqali saqlanadi.\n",
    "\n",
    "Atribut qayerda saqlanganidan qat’i nazar, agar biz instansiyada biror atributga murojaat qilsak, Python avval uni instansiyaning o‘z holatidan (ya’ni __dict__) qidiradi. Agar u yerda topilmasa, keyin uni instansiya yaratilgan klass ichidan qidiradi."
   ]
  },
  {
   "cell_type": "markdown",
   "id": "1f28ba36",
   "metadata": {},
   "source": [
    "Yana bir muhim jihat shuki — klass va instansiya __dict__larining turlari (tipi) bir-biridan farq qiladi.\n",
    "\n",
    "Klasslarda, avval ko‘rganimizdek, __dict__ mappingproxy obyektini qaytaradi."
   ]
  },
  {
   "cell_type": "code",
   "execution_count": 116,
   "id": "893b465f",
   "metadata": {},
   "outputs": [
    {
     "data": {
      "text/plain": [
       "mappingproxy({'__module__': '__main__',\n",
       "              'apr': 2.5,\n",
       "              '__dict__': <attribute '__dict__' of 'BankAccount' objects>,\n",
       "              '__weakref__': <attribute '__weakref__' of 'BankAccount' objects>,\n",
       "              '__doc__': None,\n",
       "              'account_type': 'Savings'})"
      ]
     },
     "execution_count": 116,
     "metadata": {},
     "output_type": "execute_result"
    }
   ],
   "source": [
    "BankAccount.__dict__"
   ]
  },
  {
   "cell_type": "code",
   "execution_count": 117,
   "id": "2700bb9a",
   "metadata": {},
   "outputs": [
    {
     "data": {
      "text/plain": [
       "{'apr': 0, 'bank': 'Acme Savings & Loans'}"
      ]
     },
     "execution_count": 117,
     "metadata": {},
     "output_type": "execute_result"
    }
   ],
   "source": [
    "acc_1.__dict__"
   ]
  },
  {
   "cell_type": "markdown",
   "id": "600b119f",
   "metadata": {},
   "source": [
    "Shunday qilib, instansiyalar bilan, klasslardan farqli ravishda, biz ushbu __dict__ lug‘atini to‘g‘ridan-to‘g‘ri o‘zgartirishimiz mumkin."
   ]
  },
  {
   "cell_type": "code",
   "execution_count": 118,
   "id": "0d4b7502",
   "metadata": {},
   "outputs": [],
   "source": [
    "class Program:\n",
    "    language = 'Python'"
   ]
  },
  {
   "cell_type": "code",
   "execution_count": 119,
   "id": "e39348ea",
   "metadata": {},
   "outputs": [],
   "source": [
    "p = Program()"
   ]
  },
  {
   "cell_type": "code",
   "execution_count": 120,
   "id": "34b928e2",
   "metadata": {},
   "outputs": [
    {
     "data": {
      "text/plain": [
       "{}"
      ]
     },
     "execution_count": 120,
     "metadata": {},
     "output_type": "execute_result"
    }
   ],
   "source": [
    "p.__dict__"
   ]
  },
  {
   "cell_type": "code",
   "execution_count": 121,
   "id": "7db3fee9",
   "metadata": {},
   "outputs": [],
   "source": [
    "p.__dict__['version'] = '3.7'"
   ]
  },
  {
   "cell_type": "code",
   "execution_count": 122,
   "id": "fe1ce8db",
   "metadata": {},
   "outputs": [
    {
     "data": {
      "text/plain": [
       "{'version': '3.7'}"
      ]
     },
     "execution_count": 122,
     "metadata": {},
     "output_type": "execute_result"
    }
   ],
   "source": [
    "p.__dict__"
   ]
  },
  {
   "cell_type": "code",
   "execution_count": 123,
   "id": "20ec24d1",
   "metadata": {},
   "outputs": [
    {
     "data": {
      "text/plain": [
       "('3.7', '3.7')"
      ]
     },
     "execution_count": 123,
     "metadata": {},
     "output_type": "execute_result"
    }
   ],
   "source": [
    "p.version, getattr(p, 'version')"
   ]
  },
  {
   "cell_type": "markdown",
   "id": "95284945",
   "metadata": {},
   "source": [
    "Lekin yana bir bor aytish kerakki, bu faqat o‘sha instansiyaga (ya’ni, aniq nusxaga) ta’sir qiladi."
   ]
  },
  {
   "cell_type": "code",
   "execution_count": null,
   "id": "8241f6d0",
   "metadata": {},
   "outputs": [],
   "source": []
  }
 ],
 "metadata": {
  "kernelspec": {
   "display_name": "Python 3",
   "language": "python",
   "name": "python3"
  },
  "language_info": {
   "codemirror_mode": {
    "name": "ipython",
    "version": 3
   },
   "file_extension": ".py",
   "mimetype": "text/x-python",
   "name": "python",
   "nbconvert_exporter": "python",
   "pygments_lexer": "ipython3",
   "version": "3.12.8"
  }
 },
 "nbformat": 4,
 "nbformat_minor": 5
}
