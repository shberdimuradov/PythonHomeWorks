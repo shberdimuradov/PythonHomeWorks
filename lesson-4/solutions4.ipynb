{
 "cells": [
  {
   "cell_type": "code",
   "execution_count": 3,
   "id": "79b9ddbd",
   "metadata": {},
   "outputs": [],
   "source": [
    "from collections import Counter"
   ]
  },
  {
   "cell_type": "code",
   "execution_count": 8,
   "id": "93ee4e90",
   "metadata": {},
   "outputs": [
    {
     "name": "stdout",
     "output_type": "stream",
     "text": [
      "[1, 1, 3, 4]\n"
     ]
    }
   ],
   "source": [
    "# 1.1 st\n",
    "from collections import Counter\n",
    "\n",
    "# Avval ro‘yxatlarni aniqlaymiz\n",
    "list1 = [1, 1, 2]\n",
    "list2 = [2, 3, 4]\n",
    "\n",
    "# Counter obyektlar\n",
    "c1 = Counter(list1)\n",
    "c2 = Counter(list2)\n",
    "\n",
    "# Faqat list1da bor, list2da yo‘q elementlar\n",
    "only_in_1 = c1 - c2\n",
    "# Faqat list2da bor, list1da yo‘q elementlar\n",
    "only_in_2 = c2 - c1\n",
    "\n",
    "# Har ikki tarafdagi farqni birlashtiramiz\n",
    "result = list(only_in_1.elements()) + list(only_in_2.elements())\n",
    "print(result)  # Natija: [1, 1, 3, 4]\n",
    "\n",
    "# output: [1, 1, 3, 4]"
   ]
  },
  {
   "cell_type": "code",
   "execution_count": null,
   "id": "aa42688d",
   "metadata": {},
   "outputs": [
    {
     "name": "stdout",
     "output_type": "stream",
     "text": [
      "[1, 1, 3, 4]\n"
     ]
    }
   ],
   "source": [
    "# 1.2st\n",
    "list1 = [1, 2, 3]\n",
    "list2 = [4, 5, 6]\n",
    "\n",
    "result = list1 + list2\n",
    "print(result)\n"
   ]
  },
  {
   "cell_type": "code",
   "execution_count": 10,
   "id": "680197d2",
   "metadata": {},
   "outputs": [
    {
     "name": "stdout",
     "output_type": "stream",
     "text": [
      "[2, 2, 5]\n"
     ]
    }
   ],
   "source": [
    "# 1.3st\n",
    "\n",
    "list1 = [1, 1, 2, 3, 4, 2]\n",
    "list2 = [1, 3, 4, 5]\n",
    "\n",
    "result = [x for x in list1 if x not in list2] + [x for x in list2 if x not in list1]\n",
    "print(result)\n",
    "\n",
    "# output: [2, 2, 5]"
   ]
  },
  {
   "cell_type": "code",
   "execution_count": null,
   "id": "32f82971",
   "metadata": {},
   "outputs": [
    {
     "name": "stdout",
     "output_type": "stream",
     "text": [
      "0\n",
      "1\n",
      "4\n",
      "9\n",
      "16\n"
     ]
    }
   ],
   "source": [
    "# 2st\n",
    "n = 5\n",
    "for i in range(n):\n",
    "    print(i*i) "
   ]
  },
  {
   "cell_type": "code",
   "execution_count": null,
   "id": "5aec4580",
   "metadata": {},
   "outputs": [
    {
     "name": "stdout",
     "output_type": "stream",
     "text": [
      "sal_om_d_un_h_jkh_jkh_jkh_jkh_yo\n"
     ]
    }
   ],
   "source": [
    "# 3st\n",
    "txt = \"salomdunhjkhjkhjkhjkhyo\"  # bu misol o‘rnida\n",
    "\n",
    "result = \"\"\n",
    "i = 0\n",
    "\n",
    "while i < len(txt):\n",
    "    result += txt[i]\n",
    "\n",
    "    # 1. Har 3-belgidan keyin _\n",
    "    if (i + 1) % 3 == 0 and i != len(txt) - 1:\n",
    "        result += \"_\"\n",
    "\n",
    "    # 2. Agar unli harf bo‘lsa yoki undan oldin _ bo‘lsa\n",
    "    if txt[i] in \"aeiou\" or (i > 0 and txt[i - 1] == \"_\"):\n",
    "        # Keyingi belgi mavjud bo‘lsa\n",
    "        if i + 1 < len(txt):\n",
    "            result += txt[i + 1] + \"_\"\n",
    "            i += 1  # qo‘shimcha belgini o‘tkazdik\n",
    "    i += 1\n",
    "\n",
    "print(result)"
   ]
  },
  {
   "cell_type": "code",
   "execution_count": 11,
   "id": "1851ae14",
   "metadata": {},
   "outputs": [
    {
     "name": "stdout",
     "output_type": "stream",
     "text": [
      "1 dan 100 gacha bo‘lgan raqamni toping. Sizda 10 urinish bor!\n",
      "Juda katta!\n",
      "Juda katta!\n",
      "Juda katta!\n",
      "Juda katta!\n",
      "Juda katta!\n",
      "Juda katta!\n",
      "Juda katta!\n",
      "Juda katta!\n",
      "Juda kichik!\n",
      "Iltimos, butun son kiriting.\n",
      "Yutqazdingiz. Yana o‘ynashni xohlaysizmi?\n",
      "O‘yin tugadi.\n"
     ]
    }
   ],
   "source": [
    "#4st\n",
    "import random\n",
    "\n",
    "def play_game():\n",
    "    number = random.randint(1, 100)\n",
    "    attempts = 10\n",
    "\n",
    "    print(\"1 dan 100 gacha bo‘lgan raqamni toping. Sizda 10 urinish bor!\")\n",
    "\n",
    "    for i in range(attempts):\n",
    "        try:\n",
    "            guess = int(input(f\"{i+1}-urinish: \"))\n",
    "        except ValueError:\n",
    "            print(\"Iltimos, butun son kiriting.\")\n",
    "            continue\n",
    "\n",
    "        if guess < number:\n",
    "            print(\"Juda kichik!\")\n",
    "        elif guess > number:\n",
    "            print(\"Juda katta!\")\n",
    "        else:\n",
    "            print(\"To\\'g\\'ri topdingiz!\")\n",
    "            return  # o‘yin tugadi\n",
    "\n",
    "    print(\"Yutqazdingiz. Yana o‘ynashni xohlaysizmi?\")\n",
    "\n",
    "def main():\n",
    "    while True:\n",
    "        play_game()\n",
    "        replay = input(\">> \").strip().lower()\n",
    "        if replay not in ['y', 'yes', 'ok']:\n",
    "            print(\"O‘yin tugadi.\")\n",
    "            break\n",
    "\n",
    "if __name__ == \"__main__\":\n",
    "    main()\n"
   ]
  },
  {
   "cell_type": "code",
   "execution_count": 48,
   "id": "9e5c40a3",
   "metadata": {},
   "outputs": [
    {
     "name": "stdout",
     "output_type": "stream",
     "text": [
      "Parol mustahkam.\n"
     ]
    }
   ],
   "source": [
    "#5st\n",
    "def check_password():\n",
    "    password = input(\"Parol kiriting: \")\n",
    "\n",
    "    if len(password) < 8:\n",
    "        print(\"Parol juda qisqa.\")\n",
    "    elif not any(char.isupper() for char in password):\n",
    "        print(\"Parolda kamida bitta katta harf bo‘lishi kerak.\")\n",
    "    else:\n",
    "        print(\"Parol mustahkam.\")\n",
    "\n",
    "check_password()\n",
    "\n"
   ]
  },
  {
   "cell_type": "code",
   "execution_count": 7,
   "id": "3ea50694",
   "metadata": {},
   "outputs": [
    {
     "name": "stdout",
     "output_type": "stream",
     "text": [
      "2,3,5,7,11,13,17,19,23,29,31,37,41,43,47,53,59,61,67,71,73,79,83,89,97,"
     ]
    }
   ],
   "source": [
    "#6st Tub sonlar topshirig‘i:\n",
    "# 1 dan 100 gacha bo‘lgan barcha tub sonlarni chiqaradigan Python dasturini yozing.\n",
    "\n",
    "# Tub son — bu 1 dan katta bo‘lgan va faqat 1 va o‘ziga bo‘linadigan son.\n",
    "# Bo‘linuvchanlikni tekshirish uchun ichma-ich (nested) sikllardan foydalaning.\n",
    "\n",
    "for num in range(2, 101):\n",
    "    is_prime = True\n",
    "    for i in range(2, num):\n",
    "        if num % i == 0:\n",
    "            is_prime = False\n",
    "            break\n",
    "    if is_prime:\n",
    "        print(num, end=',')\n",
    "\n",
    "\n",
    "\n"
   ]
  },
  {
   "cell_type": "code",
   "execution_count": 43,
   "id": "305af7c1",
   "metadata": {},
   "outputs": [
    {
     "name": "stdout",
     "output_type": "stream",
     "text": [
      "2,3,5,7,11,13,17,19,23,29,31,37,41,43,47,53,59,61,67,71,73,79,83,89,97,"
     ]
    }
   ],
   "source": [
    "for num in range(2, 101):\n",
    "    for i in range(2, num):\n",
    "        if num % i == 0:\n",
    "            break  \n",
    "    else:\n",
    "        print(num, end=',')  \n",
    "\n"
   ]
  },
  {
   "cell_type": "code",
   "execution_count": 40,
   "id": "5d209e06",
   "metadata": {},
   "outputs": [
    {
     "name": "stdout",
     "output_type": "stream",
     "text": [
      "[2, 3, 5, 7, 11, 13, 17, 19, 23, 29, 31, 37, 41, 43, 47, 53, 59, 61, 67, 71, 73, 79, 83, 89, 97]\n"
     ]
    }
   ],
   "source": [
    "primes = [num for num in range(2, 101) if all(num % i != 0 for i in range(2, num))]\n",
    "print(primes)\n"
   ]
  },
  {
   "cell_type": "code",
   "execution_count": 45,
   "id": "fab1a1ff",
   "metadata": {},
   "outputs": [
    {
     "name": "stdout",
     "output_type": "stream",
     "text": [
      "2,3,5,7,11,13,17,19,23,29,31,37,41,43,47,53,59,61,67,71,73,79,83,89,97,"
     ]
    }
   ],
   "source": [
    "for num in range(2, 101):\n",
    "    is_prime = True\n",
    "    for i in range(2, num):\n",
    "        if num % i == 0:\n",
    "            is_prime = False\n",
    "            break\n",
    "    if is_prime:\n",
    "        print(num, end=',')\n"
   ]
  },
  {
   "cell_type": "code",
   "execution_count": 47,
   "id": "7c8e8598",
   "metadata": {},
   "outputs": [
    {
     "name": "stdout",
     "output_type": "stream",
     "text": [
      "2,3,5,7,11,13,17,19,23,29,31,37,41,43,47,53,59,61,67,71,73,79,83,89,97,"
     ]
    }
   ],
   "source": [
    "for num in range(2, 101):\n",
    "    for i in range(2, num):\n",
    "        if num % i == 0:\n",
    "            break  # Tub emas — ichki siklni to‘xtatamiz\n",
    "    else:\n",
    "        print(num, end=',')  # faqat agar break bo‘lmasa, ya’ni tub bo‘lsa"
   ]
  },
  {
   "cell_type": "code",
   "execution_count": null,
   "id": "23b0d4d1",
   "metadata": {},
   "outputs": [
    {
     "name": "stdout",
     "output_type": "stream",
     "text": [
      "Kim birinchi 5 ochko to‘plasa — g‘olib.\n",
      "Noto‘g‘ri!\n",
      "\n",
      "Noto‘g‘ri!\n",
      "\n",
      "Noto‘g‘ri!\n",
      "\n",
      "Noto‘g‘ri!\n",
      "\n",
      "Noto‘g‘ri!\n",
      "\n",
      "Noto‘g‘ri!\n",
      "\n",
      "Noto‘g‘ri!\n",
      "\n",
      "Noto‘g‘ri!\n",
      "\n",
      "Kompyuter: qaychi\n",
      "Siz yutdingiz!\n",
      "\n",
      "Siz 1 — Kompyuter 0\n",
      "\n",
      "Kompyuter: qogʻoz\n",
      "Kompyuter yutdi!\n",
      "\n",
      "Siz 1 — Kompyuter 1\n",
      "\n",
      "Kompyuter: qoya\n",
      "Durrang!\n",
      "\n",
      "Siz 1 — Kompyuter 1\n",
      "\n"
     ]
    }
   ],
   "source": [
    "# # Bonus \n",
    "# Topshiriq:\n",
    "# Matnli (text-based) ko‘rinishda oddiy \"Qoya, Qog‘oz, Qaychi\" o‘yinini yarating, bunda o‘yinchi \n",
    "# kompyuterga qarshi o‘ynaydi.\n",
    "# Kompyuter tasodifiy ravishda qoya, qogʻoz yoki qaychi ni tanlaydi (random.choice() yordamida).\n",
    "# O‘yinchi o‘z tanlovini kiritadi.\n",
    "# G‘olib aniqlanadi va har ikki tomonning hisoblari (player va kompyuter) kuzatib boriladi.\n",
    "# Kim birinchi bo‘lib 5 ochkoga yetsa — o‘yinda g‘olib bo‘ladi.\n",
    "\n",
    "import random\n",
    "\n",
    "# 0=qoya, 1=qogʻoz, 2=qaychi\n",
    "map_ = {'qoya':0, 'qogʻoz':1, 'qaychi':2}\n",
    "inv = {v:k for k,v in map_.items()}\n",
    "ps = cs = 0\n",
    "\n",
    "print(\"Kim birinchi 5 ochko to‘plasa — g‘olib.\")\n",
    "\n",
    "for _ in range(1000):            # yetarli urinish chegarasi\n",
    "    if ps==5 or cs==5: break\n",
    "\n",
    "    p = input(\"Tanlang: \").strip().lower()\n",
    "    if p not in map_:\n",
    "        print(\"Noto‘g‘ri!\\n\"); continue\n",
    "\n",
    "    c = random.randint(0,2)\n",
    "    print(\"Kompyuter:\", inv[c])\n",
    "\n",
    "    d = (map_[p] - c) % 3\n",
    "    if   d==0: print(\"Durrang!\\n\")\n",
    "    elif d==1: print(\"Siz yutdingiz!\\n\"); ps+=1\n",
    "    else:      print(\"Kompyuter yutdi!\\n\"); cs+=1\n",
    "\n",
    "    print(f\"Siz {ps} — Kompyuter {cs}\\n\")\n",
    "\n",
    "print(\"🎉 Siz yutdingiz!\" if ps==5 else \"😞 Kompyuter yutdi.\")\n"
   ]
  },
  {
   "cell_type": "code",
   "execution_count": 5,
   "id": "ad274f26",
   "metadata": {},
   "outputs": [],
   "source": [
    "a = {\n",
    "    'user :':'Shermukhammad',\n",
    "    'age: ': 37,\n",
    "    'sp: ': 'chemistry'\n",
    "}\n"
   ]
  },
  {
   "cell_type": "code",
   "execution_count": 6,
   "id": "4fb5bbe5",
   "metadata": {},
   "outputs": [
    {
     "name": "stdout",
     "output_type": "stream",
     "text": [
      "user :\n",
      "age: \n",
      "sp: \n"
     ]
    }
   ],
   "source": [
    "for i in a:\n",
    "    print(i)"
   ]
  },
  {
   "cell_type": "code",
   "execution_count": 4,
   "id": "c5d4f570",
   "metadata": {},
   "outputs": [
    {
     "name": "stdout",
     "output_type": "stream",
     "text": [
      "user Shermukhammad\n",
      "age 37\n",
      "sp chemistry\n"
     ]
    }
   ],
   "source": [
    "for i in a:\n",
    "    print(i, a[i])"
   ]
  },
  {
   "cell_type": "code",
   "execution_count": 10,
   "id": "ff8aad99",
   "metadata": {},
   "outputs": [
    {
     "name": "stdout",
     "output_type": "stream",
     "text": [
      "Shermukhammad\n",
      "37\n",
      "chemistry\n"
     ]
    }
   ],
   "source": [
    "for i in a:\n",
    "    print(a[i])"
   ]
  },
  {
   "cell_type": "code",
   "execution_count": null,
   "id": "cacff846",
   "metadata": {},
   "outputs": [
    {
     "name": "stdout",
     "output_type": "stream",
     "text": [
      "u,s,e,r, ,:,a,g,e,:, ,s,p,:, ,"
     ]
    }
   ],
   "source": [
    "for i in a:\n",
    "    for l in i:\n",
    "        print(l, end=',')"
   ]
  },
  {
   "cell_type": "code",
   "execution_count": 14,
   "id": "2a2b08d4",
   "metadata": {},
   "outputs": [
    {
     "data": {
      "text/plain": [
       "dict_values(['Shermukhammad', 37, 'chemistry'])"
      ]
     },
     "execution_count": 14,
     "metadata": {},
     "output_type": "execute_result"
    }
   ],
   "source": [
    "a.values()"
   ]
  },
  {
   "cell_type": "code",
   "execution_count": 16,
   "id": "e71ecbed",
   "metadata": {},
   "outputs": [
    {
     "name": "stdout",
     "output_type": "stream",
     "text": [
      "Shermukhammad\n",
      "37\n",
      "chemistry\n"
     ]
    }
   ],
   "source": [
    "for i in a.values():\n",
    "    print(i)"
   ]
  },
  {
   "cell_type": "code",
   "execution_count": 18,
   "id": "2dc0a4a5",
   "metadata": {},
   "outputs": [
    {
     "name": "stdout",
     "output_type": "stream",
     "text": [
      "user :\n",
      "age: \n",
      "sp: \n"
     ]
    }
   ],
   "source": [
    "for i in a.keys():\n",
    "    print(i)"
   ]
  },
  {
   "cell_type": "code",
   "execution_count": 19,
   "id": "5a39d3a0",
   "metadata": {},
   "outputs": [
    {
     "name": "stdout",
     "output_type": "stream",
     "text": [
      "<class 'range'>\n"
     ]
    }
   ],
   "source": [
    "rn = range(100)\n",
    "print(type(rn))"
   ]
  },
  {
   "cell_type": "code",
   "execution_count": 21,
   "id": "2e754eb7",
   "metadata": {},
   "outputs": [
    {
     "name": "stdout",
     "output_type": "stream",
     "text": [
      "100\n"
     ]
    }
   ],
   "source": [
    "print(len(list(rn)))"
   ]
  },
  {
   "cell_type": "code",
   "execution_count": 25,
   "id": "e63c13bb",
   "metadata": {},
   "outputs": [
    {
     "name": "stdout",
     "output_type": "stream",
     "text": [
      "10\n",
      "8\n",
      "6\n",
      "4\n",
      "2\n"
     ]
    }
   ],
   "source": [
    "for i in range(10, 0, -2):\n",
    "    print(i)"
   ]
  },
  {
   "cell_type": "code",
   "execution_count": 26,
   "id": "d0b145cd",
   "metadata": {},
   "outputs": [
    {
     "name": "stdout",
     "output_type": "stream",
     "text": [
      "[1, 1.1, 1.2000000000000002, 1.3000000000000003, 1.4000000000000004, 1.5000000000000004, 1.6000000000000005, 1.7000000000000006, 1.8000000000000007, 1.9000000000000008, 2.000000000000001, 2.100000000000001, 2.200000000000001, 2.300000000000001, 2.4000000000000012, 2.5000000000000013, 2.6000000000000014, 2.7000000000000015, 2.8000000000000016, 2.9000000000000017, 3.0000000000000018, 3.100000000000002, 3.200000000000002, 3.300000000000002, 3.400000000000002, 3.500000000000002, 3.6000000000000023, 3.7000000000000024, 3.8000000000000025, 3.9000000000000026, 4.000000000000003, 4.100000000000002, 4.200000000000002, 4.300000000000002, 4.400000000000001, 4.500000000000001, 4.6000000000000005, 4.7, 4.8, 4.8999999999999995, 4.999999999999999, 5.099999999999999, 5.199999999999998, 5.299999999999998, 5.399999999999998, 5.499999999999997, 5.599999999999997, 5.699999999999997, 5.799999999999996, 5.899999999999996, 5.999999999999996, 6.099999999999995, 6.199999999999995, 6.2999999999999945, 6.399999999999994, 6.499999999999994, 6.599999999999993, 6.699999999999993, 6.799999999999993, 6.899999999999992, 6.999999999999992, 7.099999999999992, 7.199999999999991, 7.299999999999991, 7.399999999999991, 7.49999999999999, 7.59999999999999, 7.6999999999999895, 7.799999999999989, 7.899999999999989, 7.9999999999999885, 8.099999999999989, 8.199999999999989, 8.299999999999988, 8.399999999999988, 8.499999999999988, 8.599999999999987, 8.699999999999987, 8.799999999999986, 8.899999999999986, 8.999999999999986, 9.099999999999985, 9.199999999999985, 9.299999999999985, 9.399999999999984, 9.499999999999984, 9.599999999999984, 9.699999999999983, 9.799999999999983, 9.899999999999983, 9.999999999999982]\n"
     ]
    }
   ],
   "source": [
    "i = 1\n",
    "ilar = []\n",
    "\n",
    "while i<10:\n",
    "    ilar.append(i)\n",
    "    i+=0.1\n",
    "print(ilar)"
   ]
  },
  {
   "cell_type": "code",
   "execution_count": 31,
   "id": "e9c0ed1a",
   "metadata": {},
   "outputs": [
    {
     "name": "stdout",
     "output_type": "stream",
     "text": [
      "[1.0, 1.1, 1.2, 1.3, 1.4, 1.5, 1.6, 1.7, 1.8, 1.9, 2.0, 2.1, 2.2, 2.3, 2.4, 2.5, 2.6, 2.7, 2.8, 2.9, 3.0, 3.1, 3.2, 3.3, 3.4, 3.5, 3.6, 3.7, 3.8, 3.9, 4.0, 4.1, 4.2, 4.3, 4.4, 4.5, 4.6, 4.7, 4.8, 4.9, 5.0, 5.1, 5.2, 5.3, 5.4, 5.5, 5.6, 5.7, 5.8, 5.9, 6.0, 6.1, 6.2, 6.3, 6.4, 6.5, 6.6, 6.7, 6.8, 6.9, 7.0, 7.1, 7.2, 7.3, 7.4, 7.5, 7.6, 7.7, 7.8, 7.9, 8.0, 8.1, 8.2, 8.3, 8.4, 8.5, 8.6, 8.7, 8.8, 8.9, 9.0, 9.1, 9.2, 9.3, 9.4, 9.5, 9.6, 9.7, 9.8, 9.9]\n"
     ]
    }
   ],
   "source": [
    "from decimal import Decimal\n",
    "\n",
    "i = Decimal('1.0')\n",
    "ilar = []\n",
    "\n",
    "while i < Decimal('10.0'):\n",
    "    ilar.append(float(i))\n",
    "    i += Decimal('0.1')\n",
    "\n",
    "print(ilar)"
   ]
  },
  {
   "cell_type": "code",
   "execution_count": 39,
   "id": "4976f02d",
   "metadata": {},
   "outputs": [
    {
     "name": "stdout",
     "output_type": "stream",
     "text": [
      "java 14\n",
      "python 3\n",
      "JS 6\n"
     ]
    }
   ],
   "source": [
    "langs = ['java', 'python','JS']\n",
    "vers = 14,3,6\n",
    "\n",
    "for i in range(len(langs)):\n",
    "    print(langs[i], vers[i])\n"
   ]
  },
  {
   "cell_type": "code",
   "execution_count": 45,
   "id": "479802f4",
   "metadata": {},
   "outputs": [
    {
     "name": "stdout",
     "output_type": "stream",
     "text": [
      "('java', 14)\n",
      "('python', 3)\n",
      "('JS', 6)\n"
     ]
    }
   ],
   "source": [
    "for i in zip(langs, vers):\n",
    "    print(i)"
   ]
  },
  {
   "cell_type": "code",
   "execution_count": 43,
   "id": "23bfa038",
   "metadata": {},
   "outputs": [
    {
     "name": "stdout",
     "output_type": "stream",
     "text": [
      "[('java', 14), ('python', 3), ('JS', 6)]"
     ]
    }
   ],
   "source": [
    "a = [(lang, ver) for lang, ver in zip(langs, vers)]\n",
    "print(a, end='')"
   ]
  },
  {
   "cell_type": "code",
   "execution_count": 44,
   "id": "66f10b12",
   "metadata": {},
   "outputs": [
    {
     "name": "stdout",
     "output_type": "stream",
     "text": [
      "java 14 python 3 JS 6\n"
     ]
    }
   ],
   "source": [
    "a = [(lang, ver) for lang, ver in zip(langs, vers)]\n",
    "print(*[f\"{lang} {ver}\" for lang, ver in a])\n"
   ]
  },
  {
   "cell_type": "code",
   "execution_count": 47,
   "id": "833b5892",
   "metadata": {},
   "outputs": [
    {
     "data": {
      "text/plain": [
       "{'java': 14, 'python': 3, 'JS': 6}"
      ]
     },
     "execution_count": 47,
     "metadata": {},
     "output_type": "execute_result"
    }
   ],
   "source": [
    "dict(zip(langs, vers))"
   ]
  },
  {
   "cell_type": "code",
   "execution_count": 51,
   "id": "13c16927",
   "metadata": {},
   "outputs": [
    {
     "data": {
      "text/plain": [
       "[('java', 14), ('python', 3), ('JS', 6)]"
      ]
     },
     "execution_count": 51,
     "metadata": {},
     "output_type": "execute_result"
    }
   ],
   "source": [
    "list(zip(langs, (vers)) )"
   ]
  },
  {
   "cell_type": "code",
   "execution_count": 52,
   "id": "b4f8e6ba",
   "metadata": {},
   "outputs": [
    {
     "data": {
      "text/plain": [
       "(('java', 14), ('python', 3), ('JS', 6))"
      ]
     },
     "execution_count": 52,
     "metadata": {},
     "output_type": "execute_result"
    }
   ],
   "source": [
    "tuple(zip(langs, (vers)) )"
   ]
  },
  {
   "cell_type": "code",
   "execution_count": 53,
   "id": "94308f18",
   "metadata": {},
   "outputs": [
    {
     "data": {
      "text/plain": [
       "{('JS', 6), ('java', 14), ('python', 3)}"
      ]
     },
     "execution_count": 53,
     "metadata": {},
     "output_type": "execute_result"
    }
   ],
   "source": [
    "set(zip(langs, (vers)) )"
   ]
  },
  {
   "cell_type": "code",
   "execution_count": 54,
   "id": "a1f440c9",
   "metadata": {},
   "outputs": [
    {
     "data": {
      "text/plain": [
       "{'java': 14, 'python': 3, 'JS': 6}"
      ]
     },
     "execution_count": 54,
     "metadata": {},
     "output_type": "execute_result"
    }
   ],
   "source": [
    "dict(zip(langs, (vers)) )"
   ]
  },
  {
   "cell_type": "code",
   "execution_count": null,
   "id": "260ca541",
   "metadata": {},
   "outputs": [
    {
     "name": "stdout",
     "output_type": "stream",
     "text": [
      "0\n",
      "1\n",
      "2\n",
      "3\n",
      "4\n",
      "5\n",
      "6\n",
      "7\n",
      "8\n",
      "9\n",
      "0\n",
      "1\n",
      "2\n",
      "3\n",
      "4\n",
      "5\n",
      "6\n",
      "7\n",
      "8\n",
      "9\n",
      "0\n",
      "1\n",
      "2\n",
      "3\n",
      "4\n",
      "5\n",
      "6\n",
      "7\n",
      "8\n",
      "9\n",
      "0\n",
      "1\n",
      "2\n",
      "3\n",
      "4\n",
      "5\n",
      "6\n",
      "7\n",
      "8\n",
      "9\n",
      "0\n",
      "1\n",
      "2\n",
      "3\n",
      "4\n",
      "5\n",
      "6\n",
      "7\n",
      "8\n",
      "9\n",
      "0\n",
      "1\n",
      "2\n",
      "3\n",
      "4\n",
      "5\n",
      "6\n",
      "7\n",
      "8\n",
      "9\n",
      "0\n",
      "1\n",
      "2\n",
      "3\n",
      "4\n",
      "5\n",
      "6\n",
      "7\n",
      "8\n",
      "9\n",
      "0\n",
      "1\n",
      "2\n",
      "3\n",
      "4\n",
      "5\n",
      "6\n",
      "7\n",
      "8\n",
      "9\n",
      "0\n",
      "1\n",
      "2\n",
      "3\n",
      "4\n",
      "5\n",
      "6\n",
      "7\n",
      "8\n",
      "9\n",
      "0\n",
      "1\n",
      "2\n",
      "3\n",
      "4\n",
      "5\n",
      "6\n",
      "7\n",
      "8\n",
      "9\n"
     ]
    }
   ],
   "source": [
    "for i in range(10):\n",
    "    for j in range(10):\n",
    "        print(j)"
   ]
  },
  {
   "cell_type": "code",
   "execution_count": null,
   "id": "8b935997",
   "metadata": {},
   "outputs": [],
   "source": []
  }
 ],
 "metadata": {
  "kernelspec": {
   "display_name": "Python 3",
   "language": "python",
   "name": "python3"
  },
  "language_info": {
   "codemirror_mode": {
    "name": "ipython",
    "version": 3
   },
   "file_extension": ".py",
   "mimetype": "text/x-python",
   "name": "python",
   "nbconvert_exporter": "python",
   "pygments_lexer": "ipython3",
   "version": "3.12.8"
  }
 },
 "nbformat": 4,
 "nbformat_minor": 5
}
